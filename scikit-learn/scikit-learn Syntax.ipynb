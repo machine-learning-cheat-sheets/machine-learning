{
 "cells": [
  {
   "cell_type": "markdown",
   "metadata": {},
   "source": [
    "# **scikit-learn Syntax**\n",
    "\n",
    "- scikit-learn follows a consistent and intuitive syntax for all supervised learning models, making it easy to learn and apply different algorithms. This repeatable workflow consists of a few key steps: importing the model, creating an instance of the model, fitting the model to your data, and making predictions. Let's break down these steps in detail.\n",
    "\n",
    "**Step-by-Step Workflow**\n",
    "1. **Import the Model:**\n",
    "\n",
    "    - scikit-learn provides a wide range of models for different types of supervised learning problems. The first step is to import the specific model class from the appropriate module."
   ]
  },
  {
   "cell_type": "code",
   "execution_count": null,
   "metadata": {},
   "outputs": [],
   "source": [
    "from sklearn.module import Model "
   ]
  },
  {
   "cell_type": "markdown",
   "metadata": {},
   "source": [
    "- Replace module with the actual module name (e.g., linear_model, tree) and Model with the specific model name (e.g., LinearRegression, DecisionTreeClassifier)."
   ]
  },
  {
   "cell_type": "markdown",
   "metadata": {},
   "source": [
    "2. **Instantiate the Model:**\n",
    "\n",
    "    - Create an instance of the model class. This instance will be used to fit the model to your data and make predictions."
   ]
  },
  {
   "cell_type": "code",
   "execution_count": null,
   "metadata": {},
   "outputs": [],
   "source": [
    "model = Model()"
   ]
  },
  {
   "cell_type": "markdown",
   "metadata": {},
   "source": [
    "- Replace Model with the actual model name you imported."
   ]
  },
  {
   "cell_type": "markdown",
   "metadata": {},
   "source": [
    "3. **Fit the Model:**\n",
    "\n",
    "    - Fit the model to your data. This is where the model learns the relationship between the features (X) and the target variable (y)."
   ]
  },
  {
   "cell_type": "code",
   "execution_count": null,
   "metadata": {},
   "outputs": [],
   "source": [
    "model.fit(X, y)"
   ]
  },
  {
   "cell_type": "markdown",
   "metadata": {},
   "source": [
    "- X is an array (or DataFrame) containing your feature variables.\n",
    "- y is an array (or Series) containing your target variable."
   ]
  },
  {
   "cell_type": "markdown",
   "metadata": {},
   "source": [
    "4. **Make Predictions:**\n",
    "\n",
    "    - Use the trained model to make predictions on new data. The new data should have the same features as the training data."
   ]
  },
  {
   "cell_type": "code",
   "execution_count": null,
   "metadata": {},
   "outputs": [],
   "source": [
    "predictions = model.predict(X_new)"
   ]
  },
  {
   "cell_type": "markdown",
   "metadata": {},
   "source": [
    "- X_new is an array (or DataFrame) of new observations for which you want to predict the target variable.\n",
    "- predictions will be an array containing the predicted values or labels."
   ]
  },
  {
   "cell_type": "markdown",
   "metadata": {},
   "source": [
    "5. **Output the Predictions:**\n",
    "\n",
    "    - Print or use the predictions as needed."
   ]
  },
  {
   "cell_type": "code",
   "execution_count": null,
   "metadata": {},
   "outputs": [],
   "source": [
    "print(predictions)"
   ]
  },
  {
   "cell_type": "markdown",
   "metadata": {},
   "source": [
    "**Example: k-Nearest Neighbors**\n",
    "- To illustrate this workflow, let's use the k-Nearest Neighbors (k-NN) algorithm as an example. k-NN is a simple, yet powerful algorithm that uses the distance between observations to predict labels or values.\n",
    "\n",
    "Code Example:"
   ]
  },
  {
   "cell_type": "code",
   "execution_count": null,
   "metadata": {},
   "outputs": [],
   "source": [
    "from sklearn.neighbors import KNeighborsClassifier  # Import the k-NN classifier from scikit-learn\n",
    "\n",
    "model = KNeighborsClassifier(n_neighbors=3)  # Create an instance of the model with k=3\n",
    "\n",
    "model.fit(X, y)  # Train the model using features (X) and target variable (y)\n",
    "\n",
    "predictions = model.predict(X_new)  # Make predictions on new data (X_new)\n",
    "\n",
    "print(predictions)  # Output the predictions"
   ]
  },
  {
   "cell_type": "markdown",
   "metadata": {},
   "source": [
    "In this example:\n",
    "\n",
    "- We import KNeighborsClassifier from sklearn.neighbors.\n",
    "- We create an instance of the classifier with n_neighbors=3, which means the algorithm will consider the 3 nearest neighbors for making predictions.\n",
    "- We fit the model to the training data (X and y).\n",
    "- We make predictions on new data (X_new).\n",
    "- We print the predictions to see the results."
   ]
  },
  {
   "cell_type": "markdown",
   "metadata": {},
   "source": [
    "**Summary**\n",
    "The scikit-learn workflow is designed to be straightforward and consistent across different models:\n",
    "\n",
    "1. Import the model class.\n",
    "2. Instantiate the model.\n",
    "3. Fit the model to the training data.\n",
    "4. Predict using new data.\n",
    "5. Output the predictions.\n",
    "\n",
    "By following this simple yet powerful pattern, you can easily apply a wide range of supervised learning algorithms to your data, leveraging the flexibility and power of scikit-learn to build and evaluate predictive models."
   ]
  }
 ],
 "metadata": {
  "kernelspec": {
   "display_name": "Python 3",
   "language": "python",
   "name": "python3"
  },
  "language_info": {
   "name": "python",
   "version": "3.13.0"
  }
 },
 "nbformat": 4,
 "nbformat_minor": 2
}
